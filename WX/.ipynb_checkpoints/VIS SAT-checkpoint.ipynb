{
 "cells": [
  {
   "cell_type": "code",
   "execution_count": null,
   "metadata": {
    "collapsed": false
   },
   "outputs": [],
   "source": [
    "import urllib2\n",
    "from urllib2 import Request, urlopen\n",
    "from metpy.io.gini import GiniFile\n",
    "from siphon.catalog import TDSCatalog\n",
    "from netCDF4 import num2date\n",
    "import datetime\n",
    "import cartopy.crs as ccrs\n",
    "cat=TDSCatalog('http://thredds.ucar.edu/thredds/catalog/satellite/VIS/EAST-CONUS_1km/current/catalog.xml')\n",
    "dataset_name = sorted(cat.datasets.keys())[-1]\n",
    "dataset = cat.datasets[dataset_name]\n",
    "remote_gini_file = urlopen(dataset.access_urls['HTTPServer'])\n",
    "gini = GiniFile(remote_gini_file)\n",
    "gini_ds = gini.to_dataset()\n",
    "data_var = gini_ds.variables['Visible']\n",
    "x = gini_ds.variables['x'][:]\n",
    "y = gini_ds.variables['y'][:]\n",
    "proj_var = gini_ds.variables[data_var.grid_mapping]\n",
    "globe = ccrs.Globe(ellipse='sphere', semimajor_axis=proj_var.earth_radius,\n",
    "                   semiminor_axis=proj_var.earth_radius)\n",
    "proj = ccrs.LambertConformal(central_longitude=proj_var.longitude_of_central_meridian,\n",
    "                             central_latitude=proj_var.latitude_of_projection_origin,\n",
    "                             standard_parallels=[proj_var.standard_parallel],\n",
    "                             globe=globe)\n",
    "time_var = gini_ds.variables['time']\n",
    "timestamp = num2date(time_var[:].squeeze(), time_var.units)\n",
    "print 'VIS Time:%s'%timestamp\n",
    "dateZ = datetime.datetime.utcnow()\n",
    "date=datetime.datetime.now()\n",
    "print 'Now: %sZ' %dateZ"
   ]
  },
  {
   "cell_type": "markdown",
   "metadata": {},
   "source": [
    "# !!!!!! 10 min to plot !!!!!!!!⬇⬇⬇⬇⬇⬇⬇⬇⬇"
   ]
  },
  {
   "cell_type": "code",
   "execution_count": null,
   "metadata": {
    "collapsed": false,
    "scrolled": false
   },
   "outputs": [],
   "source": [
    "# Make sure the notebook puts figures inline\n",
    "%matplotlib inline\n",
    "import matplotlib.pyplot as plt\n",
    "import cartopy.feature as cfeat\n",
    "from metpy.plots.ctables import registry\n",
    "from matplotlib import patheffects\n",
    "from netCDF4 import num2date\n",
    "time_var = gini_ds.variables['time']\n",
    "timestamp = num2date(time_var[:].squeeze(), time_var.units)\n",
    "print timestamp\n",
    "\n",
    "state_boundaries = cfeat.NaturalEarthFeature(category='cultural',\n",
    "                                             name='admin_1_states_provinces_lines',\n",
    "                                             scale='50m', facecolor='none')\n",
    "#fig = plt.figure(figsize=(20,20))\n",
    "fig=plt.figure()\n",
    "\n",
    "\n",
    "#wv_norm, wv_cmap = registry.get_with_steps('WVCIMSS', 0, 1)\n",
    "ax = fig.add_subplot(1, 1, 1, projection=proj)\n",
    "ax.set_extent([-92,-87,43,37], ccrs.Geodetic()) #[lon_0, lon_1, lat_0, lat_1])\n",
    "\n",
    "im = ax.imshow(data_var[:],extent=(x[0], x[-1], y[0], y[-1]), origin='upper')\n",
    "#               cmap=wv_cmap, norm=wv_norm,norm=plt.Normalize(140, 255))\n",
    "#im = ax.imshow(data_var[:],extent=(x[0], x[-1], y[0], y[-1]), origin='upper',\n",
    "#               cmap='gist_stern',norm=plt.Normalize(190, 255))\n",
    "#Upper level low 'detection':\n",
    "#im = ax.imshow(data_var[:],extent=(x[0], x[-1], y[0], y[-1]), origin='upper',\n",
    "#               cmap='nipy_spectral',norm=plt.Normalize(140, 150))\n",
    "\n",
    "#ax.coastlines(resolution='50m',color='white')\n",
    "ax.add_feature(state_boundaries, color='white')\n",
    "#ax.add_feature(cfeat.BORDERS, linewidth='2', color='white')\n",
    "'''\n",
    "text = ax.text(0.99, 0.01, timestamp.strftime('%d %B %Y %H:%M:%S Z'),\n",
    "               horizontalalignment='right', transform=ax.transAxes,\n",
    "               color='white', fontsize='xx-large', weight='bold')\n",
    "\n",
    "text.set_path_effects([patheffects.Stroke(linewidth=2, foreground='black'),\n",
    "                       patheffects.Normal()])\n",
    "'''\n",
    "#fig.savefig('20x20.png', bbox_inches='tight',dpi=200)"
   ]
  }
 ],
 "metadata": {
  "kernelspec": {
   "display_name": "Python 2",
   "language": "python",
   "name": "python2"
  },
  "language_info": {
   "codemirror_mode": {
    "name": "ipython",
    "version": 2
   },
   "file_extension": ".py",
   "mimetype": "text/x-python",
   "name": "python",
   "nbconvert_exporter": "python",
   "pygments_lexer": "ipython2",
   "version": "2.7.11"
  }
 },
 "nbformat": 4,
 "nbformat_minor": 0
}
