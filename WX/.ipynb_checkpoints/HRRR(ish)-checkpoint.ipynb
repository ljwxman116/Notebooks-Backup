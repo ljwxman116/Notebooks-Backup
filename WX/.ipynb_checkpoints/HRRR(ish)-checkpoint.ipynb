{
 "cells": [
  {
   "cell_type": "code",
   "execution_count": 1,
   "metadata": {
    "collapsed": false,
    "scrolled": false
   },
   "outputs": [
    {
     "name": "stdout",
     "output_type": "stream",
     "text": [
      "2016-02-27 14:41:57.866000\n",
      "2016-02-27 20:41:57.866000\n",
      "http://thredds.ucar.edu/thredds/dodsC/grib/NCEP/HRRR/CONUS_2p5km/HRRR_CONUS_2p5km_20160227_1800.grib2/GC\n",
      "VALID\n",
      "http://thredds.ucar.edu/thredds/dodsC/grib/NCEP/HRRR/CONUS_2p5km/HRRR_CONUS_2p5km_20160227_1900.grib2/GC\n",
      "VALID\n",
      "INT: Hour since 2016-02-27T19:00:00Z\n"
     ]
    }
   ],
   "source": [
    "%matplotlib inline\n",
    "import matplotlib\n",
    "import matplotlib.pyplot as plt\n",
    "from mpl_toolkits.basemap import Basemap, cm\n",
    "import netCDF4\n",
    "from netCDF4 import num2date\n",
    "import numpy as np\n",
    "import datetime\n",
    "import cartopy\n",
    "import cartopy.crs as ccrs\n",
    "import cartopy.feature as cfeat\n",
    "dateZ = datetime.datetime.utcnow()\n",
    "date=datetime.datetime.now()\n",
    "print date\n",
    "print dateZ\n",
    "if dateZ.hour==0:\n",
    "    URL = 'http://thredds.ucar.edu/thredds/dodsC/grib/NCEP/HRRR/CONUS_2p5km/HRRR_CONUS_2p5km_%04i%02i%02i_%02i%02i.grib2/GC' %\\\n",
    "(dateZ.year,dateZ.month,date.day,(dateZ.hour)+23,0)\n",
    "    # keep moving back 6 hours until a valid URL found\n",
    "    validURL = False; ncount = 0\n",
    "    while (not validURL and ncount < 1):\n",
    "        print(URL)\n",
    "        try:\n",
    "            hrrr = netCDF4.Dataset(URL)\n",
    "            validURL = True\n",
    "            print 'VALID'\n",
    "        except RuntimeError:\n",
    "            date -= datetime.timedelta(hours=1)\n",
    "            ncount += 1  \n",
    "            print '***NOT VALID***'\n",
    "URL = 'http://thredds.ucar.edu/thredds/dodsC/grib/NCEP/HRRR/CONUS_2p5km/HRRR_CONUS_2p5km_%04i%02i%02i_%02i%02i.grib2/GC' %\\\n",
    "(dateZ.year,dateZ.month,dateZ.day,(dateZ.hour)-2,0)\n",
    "# keep moving back 6 hours until a valid URL found\n",
    "validURL = False; ncount = 0\n",
    "while (not validURL and ncount < 1):\n",
    "    print(URL)\n",
    "    try:\n",
    "        hrrr = netCDF4.Dataset(URL)\n",
    "        validURL = True\n",
    "        print 'VALID'\n",
    "    except RuntimeError:\n",
    "        date -= datetime.timedelta(hours=1)\n",
    "        ncount += 1  \n",
    "        print '***NOT VALID***'\n",
    "URL = 'http://thredds.ucar.edu/thredds/dodsC/grib/NCEP/HRRR/CONUS_2p5km/HRRR_CONUS_2p5km_%04i%02i%02i_%02i%02i.grib2/GC' %\\\n",
    "(dateZ.year,dateZ.month,dateZ.day,(dateZ.hour)-1,0)\n",
    "# keep moving back 6 hours until a valid URL found\n",
    "validURL = False; ncount = 0\n",
    "while (not validURL and ncount < 1):\n",
    "    print(URL)\n",
    "    try:\n",
    "        hrrr = netCDF4.Dataset(URL)\n",
    "        validURL = True\n",
    "        print 'VALID'\n",
    "    except RuntimeError:\n",
    "        date -= datetime.timedelta(hours=1)\n",
    "        ncount += 1  \n",
    "        print '***NOT VALID***'\n",
    "time_var = hrrr.variables['time']\n",
    "timestamp = num2date(time_var[:].squeeze(), time_var.units)\n",
    "#print 'INT: %s'%timestamp.strftime('%x %H Z')\n",
    "#print 'INT:%02i%02i'%((dateZ.hour)-1,0)\n",
    "timeunits=hrrr.variables['time'].units\n",
    "print 'INT: %s'%timeunits\n",
    "x=(hrrr.variables['x'][:])*1000\n",
    "y=(hrrr.variables['y'][:])*1000\n",
    "#x,y=np.meshgrid(x,y)\n",
    "T=hrrr.variables[u'Temperature_height_above_ground']\n",
    "#Tp=(T[10,0,:,:]) #T[hr,0,y,x] in K\n",
    "Tp=((T[0,0,:,:])*1.8-459.67)\n",
    "'''\n",
    "W=rtma.variables['Wind_speed_Analysis_height_above_ground']\n",
    "Wp=((W[0,0,:,:])*(3600/1609.344))\n",
    "Td=rtma.variables['Dewpoint_temperature_Analysis_height_above_ground']\n",
    "Tdp=((Td[0,0,:,:])*1.8-459.67)\n",
    "C=rtma.variables['Total_cloud_cover_Analysis_entire_atmosphere_single_layer']\n",
    "Cp=(C[0,:,:])\n",
    "V=rtma.variables['Visibility_Analysis_surface']\n",
    "Vp=(V[0,:,:])*(1/1609.344)\n",
    "Wg=rtma.variables['Wind_speed_gust_Analysis_height_above_ground']\n",
    "Wgp=((Wg[0,0,:,:])*(3600/1609.344))\n",
    "'''\n",
    "state=cfeat.NaturalEarthFeature(category='cultural',\n",
    "                                name='admin_1_states_provinces_lines',\n",
    "                                scale='10m', facecolor='none')\n",
    "lakes=cfeat.NaturalEarthFeature(category='physical',\n",
    "                                name='lakes',\n",
    "                                scale='10m', facecolor='none')\n",
    "grid = hrrr[T.grid_mapping]\n",
    "lon0 = grid.longitude_of_central_meridian\n",
    "lat0 = grid.latitude_of_projection_origin\n",
    "lat1 = grid.standard_parallel\n",
    "earth_radius = grid.earth_radius\n",
    "globe = ccrs.Globe(ellipse='sphere', semimajor_axis=grid.earth_radius)\n",
    "\n",
    "crs = ccrs.LambertConformal(central_longitude=lon0, central_latitude=lat0, \n",
    "                            standard_parallels=(lat0,lat1), globe=globe)"
   ]
  },
  {
   "cell_type": "code",
   "execution_count": null,
   "metadata": {
    "collapsed": false
   },
   "outputs": [],
   "source": [
    "T"
   ]
  },
  {
   "cell_type": "code",
   "execution_count": null,
   "metadata": {
    "collapsed": false
   },
   "outputs": [],
   "source": [
    "Tp=(T[10,0,:,:]) #T[hr,0,y,x] in K"
   ]
  },
  {
   "cell_type": "code",
   "execution_count": null,
   "metadata": {
    "collapsed": false
   },
   "outputs": [],
   "source": [
    "a=92-87\n",
    "b=43-37\n",
    "print 'figsize=%s,%s'%(a,b)\n",
    "c=abs(a-b)\n",
    "print 'Diff=%s'%c"
   ]
  },
  {
   "cell_type": "code",
   "execution_count": null,
   "metadata": {
    "collapsed": false
   },
   "outputs": [],
   "source": [
    "from mpl_toolkits.basemap import Basemap\n",
    "m = Basemap(width=12000000,height=9000000,rsphere=6371200.0,\n",
    "            projection='lcc',resolution='c',lat_1=25.,lat_2=25,\n",
    "            lat_0=25,lon_0=265.)\n",
    "m.fillcontinents(color='coral',lake_color='aqua')\n",
    "lon, lat = -88.832842, 42.275721 # Location of Boulder\n",
    "# convert to map projection coords.\n",
    "# Note that lon,lat can be scalars, lists or numpy arrays.\n",
    "xpt,ypt = m(lon,lat)\n",
    "# convert back to lat/lon\n",
    "lonpt, latpt = m(xpt,ypt,inverse=True)\n",
    "m.plot(xpt,ypt,'bo')  # plot a blue dot there\n",
    "# put some text next to the dot, offset a little bit\n",
    "# (the offset is in map projection coordinates)\n",
    "plt.text(xpt+100000,ypt+100000,'Belvidere (%5.1fW,%3.1fN)' % (lonpt,latpt))"
   ]
  },
  {
   "cell_type": "code",
   "execution_count": null,
   "metadata": {
    "collapsed": false
   },
   "outputs": [],
   "source": [
    "print 'xpt=%s'%xpt\n",
    "print 'ypt=%s'%ypt"
   ]
  },
  {
   "cell_type": "code",
   "execution_count": 2,
   "metadata": {
    "collapsed": false,
    "scrolled": false
   },
   "outputs": [
    {
     "data": {
      "text/plain": [
       "<cartopy.mpl.feature_artist.FeatureArtist at 0xbe5fd30>"
      ]
     },
     "execution_count": 2,
     "metadata": {},
     "output_type": "execute_result"
    },
    {
     "name": "stderr",
     "output_type": "stream",
     "text": [
      "C:\\Users\\LLJ116\\Miniconda2\\lib\\site-packages\\matplotlib\\artist.py:221: MatplotlibDeprecationWarning: This has been deprecated in mpl 1.5, please use the\n",
      "axes property.  A removal date has not been set.\n",
      "  warnings.warn(_get_axes_msg, mplDeprecation, stacklevel=1)\n"
     ]
    },
    {
     "data": {
      "image/png": "[encoded data removed]",
      "text/plain": [
       "<matplotlib.figure.Figure at 0xaa46908>"
      ]
     },
     "metadata": {},
     "output_type": "display_data"
    }
   ],
   "source": [
    "#c=np.arange(28,32,2)\n",
    "#plt.figure(figsize=(14,15)) \n",
    "ax=plt.axes(projection=ccrs.PlateCarree())\n",
    "ax.set_extent([-89.4287109375,-88.2971191406,41.9063653897,42.6501218137],\n",
    "              ccrs.Geodetic())\n",
    "#ax.pcolormesh(x,y,T.squeeze(),transform=crs,cmap='nipy_spectral')\n",
    "#ax.contourf(x,y,Tp.squeeze(),c,transform=crs)\n",
    "ax.add_feature(state)\n",
    "#ax.add_feature(lakes,edgecolors='blue')\n",
    "#ax.set_title(u'HRRR T°K 10 HR @ %s'%timestamp.strftime('%x %H Z'),\n",
    "#          fontsize=20)"
   ]
  },
  {
   "cell_type": "code",
   "execution_count": null,
   "metadata": {
    "collapsed": false
   },
   "outputs": [],
   "source": [
    "fig = plt.figure(figsize=(14,15)) \n",
    "ax = plt.axes(projection=ccrs.PlateCarree())\n",
    "ax.set_extent([-92,-87,43, 37], ccrs.Geodetic())\n",
    "#ax.pcolormesh(x,y,T[0,0].squeeze(), transform=crs,zorder=0)\n",
    "ax.pcolormesh(x,y,Tdp.squeeze(), transform=crs,zorder=0)\n",
    "#ax.coastlines(resolution='110m',color='black',zorder=1)\n",
    "ax.add_feature(state)\n",
    "#ax.add_feature(cfeat.BORDERS)\n",
    "ax.set_title(u'RTMA Td°F Analysis @ %s'%timestamp.strftime('%x %H Z'),\n",
    "          fontsize=20)"
   ]
  },
  {
   "cell_type": "code",
   "execution_count": null,
   "metadata": {
    "collapsed": false,
    "scrolled": false
   },
   "outputs": [],
   "source": [
    "fig = plt.figure(figsize=(14,15)) \n",
    "ax = plt.axes(projection=ccrs.PlateCarree())\n",
    "ax.set_extent([-92,-87,43, 37], ccrs.Geodetic())\n",
    "#ax.pcolormesh(x,y,T[0,0].squeeze(), transform=crs,zorder=0)\n",
    "ax.pcolormesh(x,y,Wp.squeeze(), transform=crs,zorder=0)\n",
    "#ax.coastlines(resolution='110m',color='black',zorder=1)\n",
    "ax.add_feature(state)\n",
    "#ax.add_feature(cfeat.BORDERS)\n",
    "ax.set_title(u'RTMA Wind (mph) Analysis @ %s'%timestamp.strftime('%x %H Z'),\n",
    "          fontsize=20)"
   ]
  },
  {
   "cell_type": "code",
   "execution_count": null,
   "metadata": {
    "collapsed": false,
    "scrolled": false
   },
   "outputs": [],
   "source": [
    "fig = plt.figure(figsize=(14,15)) \n",
    "ax = plt.axes(projection=ccrs.PlateCarree())\n",
    "ax.set_extent([-92,-87,43, 37], ccrs.Geodetic())\n",
    "#ax.pcolormesh(x,y,T[0,0].squeeze(), transform=crs,zorder=0)\n",
    "ax.pcolormesh(x,y,Cp.squeeze(), transform=crs,zorder=0)\n",
    "#ax.coastlines(resolution='110m',color='black',zorder=1)\n",
    "ax.add_feature(state)\n",
    "#ax.add_feature(cfeat.BORDERS)\n",
    "ax.set_title(u'RTMA Cloud Cover (%%) Analysis @ %s'%timestamp.strftime('%x %H Z'),\n",
    "          fontsize=20)"
   ]
  },
  {
   "cell_type": "code",
   "execution_count": null,
   "metadata": {
    "collapsed": false,
    "scrolled": false
   },
   "outputs": [],
   "source": [
    "fig = plt.figure(figsize=(14,15)) \n",
    "ax = plt.axes(projection=ccrs.PlateCarree())\n",
    "ax.set_extent([-92,-87,43, 37], ccrs.Geodetic())\n",
    "#ax.pcolormesh(x,y,T[0,0].squeeze(), transform=crs,zorder=0)\n",
    "ax.pcolormesh(x,y,Vp.squeeze(), transform=crs,zorder=0)\n",
    "#ax.coastlines(resolution='110m',color='black',zorder=1)\n",
    "ax.add_feature(state)\n",
    "#ax.add_feature(cfeat.BORDERS)\n",
    "ax.set_title(u'RTMA Visibility (mi) Analysis @ %s'%timestamp.strftime('%x %H Z'),\n",
    "          fontsize=20)"
   ]
  },
  {
   "cell_type": "code",
   "execution_count": null,
   "metadata": {
    "collapsed": false,
    "scrolled": false
   },
   "outputs": [],
   "source": [
    "plt.figure(figsize=(14,15)) \n",
    "ax = plt.axes(projection=ccrs.PlateCarree())\n",
    "ax.set_extent([-92,-87,43, 37], ccrs.Geodetic())\n",
    "#ax.pcolormesh(x,y,T[0,0].squeeze(), transform=crs,zorder=0)\n",
    "cax=ax.pcolormesh(x,y,Wgp.squeeze(), transform=crs,zorder=0)\n",
    "#ax.coastlines(resolution='110m',color='black',zorder=1)\n",
    "ax.add_feature(state)\n",
    "#ax.add_feature(cfeat.BORDERS)\n",
    "ax.set_title(u'RTMA Wind Gust (mph) Analysis @ %s'%timestamp.strftime('%x %H Z'),\n",
    "          fontsize=20)\n",
    "#plt.colorbar(cax)#,orientation='horizontal', pad=\"1%\",shrink=0.75)"
   ]
  },
  {
   "cell_type": "code",
   "execution_count": null,
   "metadata": {
    "collapsed": false
   },
   "outputs": [],
   "source": [
    "x=hrrr.variables['x'][:]\n",
    "y=hrrr.variables['y'][:]\n",
    "x,y=np.meshgrid(x,y)\n",
    "#T=rtma.variables[u'Tp=(T[10,0,:,:]) #T[hr,0,y,x] in K']\n",
    "#Tp=((T[0,0,:,:])*1.8-459.67)"
   ]
  },
  {
   "cell_type": "code",
   "execution_count": null,
   "metadata": {
    "collapsed": false,
    "scrolled": false
   },
   "outputs": [],
   "source": [
    "# -*- coding: utf-8 -*-\n",
    "#fig=plt.figure(figsize=(12,8)) #x:1200,y:800\n",
    "#cf=np.arange(20,60,1)\n",
    "#c=np.arange(20,80,5)\n",
    "#plt.contourf(x,y,Tp,cf,cmap='nipy_spectral')\n",
    "plt.pcolormesh(x,y,Tp,cmap='nipy_spectral')\n",
    "#plt.contour(x,y,Tp,colors='black')\n",
    "#plt.title(u'RTMA T°F Analysis @ %s'%timestamp.strftime('%x %H Z'),\n",
    "#          fontsize=20)\n",
    "plt.xlim(-400,800)\n",
    "plt.ylim(1400,2200)"
   ]
  },
  {
   "cell_type": "code",
   "execution_count": null,
   "metadata": {
    "collapsed": false
   },
   "outputs": [],
   "source": [
    "W=rtma.variables['Wind_speed_Analysis_height_above_ground']\n",
    "Wp=((W[0,0,:,:])*(3600/1609.344))"
   ]
  },
  {
   "cell_type": "code",
   "execution_count": null,
   "metadata": {
    "collapsed": false,
    "scrolled": false
   },
   "outputs": [],
   "source": [
    "# -*- coding: utf-8 -*-\n",
    "fig=plt.figure(figsize=(12,8))\n",
    "c1=np.arange(0,50,.5)\n",
    "plt.contourf(x,y,Wp,c1,cmap='nipy_spectral')\n",
    "plt.title(u'RTMA Wind (mph) Analysis @ %s'%timestamp.strftime('%x %H Z'),\n",
    "          fontsize=20)\n",
    "plt.xlim(-400,800)\n",
    "plt.ylim(1400,2200)"
   ]
  },
  {
   "cell_type": "code",
   "execution_count": null,
   "metadata": {
    "collapsed": false
   },
   "outputs": [],
   "source": [
    "print 'Wmin %s mph'%np.amin(Wp)\n",
    "print 'Wmax %s mph'%np.amax(Wp)"
   ]
  },
  {
   "cell_type": "code",
   "execution_count": null,
   "metadata": {
    "collapsed": false
   },
   "outputs": [],
   "source": [
    "Td=rtma.variables['Dewpoint_temperature_Analysis_height_above_ground']\n",
    "Tdp=((Td[0,0,:,:])*1.8-459.67)"
   ]
  },
  {
   "cell_type": "code",
   "execution_count": null,
   "metadata": {
    "collapsed": false
   },
   "outputs": [],
   "source": [
    "fig=plt.figure(figsize=(12,8))\n",
    "plt.xlim(-400,800)\n",
    "plt.ylim(1400,2200)\n",
    "c2=np.arange(32,70,1)\n",
    "plt.contourf(x,y,Tdp,c2,cmap='nipy_spectral')\n",
    "plt.title(u'RTMA Td°F Analysis @ %s'%timestamp.strftime('%x %H Z'),\n",
    "          fontsize=20)"
   ]
  },
  {
   "cell_type": "code",
   "execution_count": null,
   "metadata": {
    "collapsed": false
   },
   "outputs": [],
   "source": [
    "print 'Tdmin %s mph'%np.amin(Tdp)\n",
    "print 'Tdmax %s mph'%np.amax(Tdp)"
   ]
  },
  {
   "cell_type": "code",
   "execution_count": null,
   "metadata": {
    "collapsed": true
   },
   "outputs": [],
   "source": []
  }
 ],
 "metadata": {
  "kernelspec": {
   "display_name": "Python 2",
   "language": "python",
   "name": "python2"
  },
  "language_info": {
   "codemirror_mode": {
    "name": "ipython",
    "version": 2
   },
   "file_extension": ".py",
   "mimetype": "text/x-python",
   "name": "python",
   "nbconvert_exporter": "python",
   "pygments_lexer": "ipython2",
   "version": "2.7.11"
  }
 },
 "nbformat": 4,
 "nbformat_minor": 0
}
