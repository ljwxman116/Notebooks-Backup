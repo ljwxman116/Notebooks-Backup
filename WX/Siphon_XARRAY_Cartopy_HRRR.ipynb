{
 "cells": [
  {
   "cell_type": "code",
   "execution_count": 1,
   "metadata": {
    "collapsed": false
   },
   "outputs": [],
   "source": [
    "import matplotlib.pyplot as plt\n",
    "import numpy as np\n",
    "%matplotlib inline"
   ]
  },
  {
   "cell_type": "markdown",
   "metadata": {},
   "source": [
    "## Extract HRRR data using Unidata's Siphon package"
   ]
  },
  {
   "cell_type": "code",
   "execution_count": 2,
   "metadata": {
    "collapsed": false
   },
   "outputs": [],
   "source": [
    "# Resolve the latest HRRR dataset\n",
    "from siphon.catalog import get_latest_access_url\n",
    "\n",
    "hrrr_catalog = \"http://thredds.ucar.edu/thredds/catalog/grib/NCEP/HRRR/CONUS_2p5km/catalog.xml\"\n",
    "latest_hrrr_ncss = get_latest_access_url(hrrr_catalog, \"NetcdfSubset\")\n",
    "\n",
    "# Set up access via NCSS\n",
    "from siphon.ncss import NCSS\n",
    "ncss = NCSS(latest_hrrr_ncss)\n",
    "\n",
    "# Create a query to ask for all times in netcdf4 format for\n",
    "# the Temperature_surface variable, with a bounding box\n",
    "query = ncss.query()"
   ]
  },
  {
   "cell_type": "code",
   "execution_count": 3,
   "metadata": {
    "collapsed": false
   },
   "outputs": [],
   "source": [
    "query.all_times().accept('netcdf4').variables('Temperature_height_above_ground')\n",
    "query.lonlat_box(north=43, south=41, east=-87, west=-91)\n",
    "\n",
    "# Get the raw bytes and write to a file.\n",
    "data = ncss.get_data_raw(query)\n",
    "with open('test.nc', 'wb') as outf:\n",
    "    outf.write(data)"
   ]
  },
  {
   "cell_type": "code",
   "execution_count": 4,
   "metadata": {
    "collapsed": true
   },
   "outputs": [],
   "source": [
    "import netCDF4\n",
    "nc = netCDF4.Dataset('test.nc')"
   ]
  },
  {
   "cell_type": "markdown",
   "metadata": {},
   "source": [
    "## Try reading extracted data with Xarray"
   ]
  },
  {
   "cell_type": "code",
   "execution_count": 4,
   "metadata": {
    "collapsed": false
   },
   "outputs": [],
   "source": [
    "import xarray"
   ]
  },
  {
   "cell_type": "code",
   "execution_count": 5,
   "metadata": {
    "collapsed": false
   },
   "outputs": [],
   "source": [
    "nc = xarray.open_dataset('test.nc')"
   ]
  },
  {
   "cell_type": "code",
   "execution_count": 5,
   "metadata": {
    "collapsed": false
   },
   "outputs": [
    {
     "data": {
      "text/plain": [
       "<type 'netCDF4._netCDF4.Dataset'>\n",
       "root group (NETCDF4 data model, file format HDF5):\n",
       "    Originating_or_generating_Center: US National Weather Service, National Centres for Environmental Prediction (NCEP)\n",
       "    Originating_or_generating_Subcenter: 0\n",
       "    GRIB_table_version: 2,1\n",
       "    Type_of_generating_process: Forecast\n",
       "    Conventions: CF-1.6\n",
       "    history: Read using CDM IOSP GribCollection v3\n",
       "    featureType: GRID\n",
       "    History: Translated to CF-1.0 Conventions by Netcdf-Java CDM (CFGridWriter2)\n",
       "Original Dataset = /data/ldm/pub/native/grid/NCEP/HRRR/CONUS_2p5km/HRRR_CONUS_2p5km_20160302_0300.grib2.ncx3#LambertConformal_1377X2145-38p22N-95p43W; Translation Date = 2016-03-02T04:56:04.910Z\n",
       "    geospatial_lat_min: 40.8539282623\n",
       "    geospatial_lat_max: 43.1447053859\n",
       "    geospatial_lon_min: -91.0951665655\n",
       "    geospatial_lon_max: -86.8356986947\n",
       "    dimensions(sizes): time(16), height_above_ground1(1), y(99), x(141)\n",
       "    variables(dimensions): float32 \u001b[4mTemperature_height_above_ground\u001b[0m(time,height_above_ground1,y,x), float64 \u001b[4mtime\u001b[0m(time), float32 \u001b[4mheight_above_ground1\u001b[0m(height_above_ground1), float32 \u001b[4my\u001b[0m(y), float32 \u001b[4mx\u001b[0m(x), int32 \u001b[4mLambertConformal_Projection\u001b[0m()\n",
       "    groups: "
      ]
     },
     "execution_count": 5,
     "metadata": {},
     "output_type": "execute_result"
    }
   ],
   "source": [
    "nc"
   ]
  },
  {
   "cell_type": "code",
   "execution_count": 6,
   "metadata": {
    "collapsed": false
   },
   "outputs": [
    {
     "data": {
      "text/plain": [
       "<type 'netCDF4._netCDF4.Variable'>\n",
       "float32 Temperature_height_above_ground(time, height_above_ground1, y, x)\n",
       "    long_name: Temperature @ Specified height level above ground\n",
       "    units: K\n",
       "    abbreviation: TMP\n",
       "    missing_value: nan\n",
       "    grid_mapping: LambertConformal_Projection\n",
       "    coordinates: time height_above_ground1 y x \n",
       "    Grib_Variable_Id: VAR_0-0-0_L103\n",
       "    Grib2_Parameter: [0 0 0]\n",
       "    Grib2_Parameter_Discipline: Meteorological products\n",
       "    Grib2_Parameter_Category: Temperature\n",
       "    Grib2_Parameter_Name: Temperature\n",
       "    Grib2_Level_Type: Specified height level above ground\n",
       "    Grib2_Generating_Process_Type: Forecast\n",
       "unlimited dimensions: \n",
       "current shape = (16, 1, 99, 141)\n",
       "filling on, default _FillValue of 9.96920996839e+36 used"
      ]
     },
     "execution_count": 6,
     "metadata": {},
     "output_type": "execute_result"
    }
   ],
   "source": [
    "var='Temperature_height_above_ground'\n",
    "ncvar = nc[var]\n",
    "ncvar"
   ]
  },
  {
   "cell_type": "code",
   "execution_count": 7,
   "metadata": {
    "collapsed": false
   },
   "outputs": [
    {
     "data": {
      "text/plain": [
       "<type 'netCDF4._netCDF4.Variable'>\n",
       "int32 LambertConformal_Projection()\n",
       "    grid_mapping_name: lambert_conformal_conic\n",
       "    latitude_of_projection_origin: 25.0\n",
       "    longitude_of_central_meridian: 265.0\n",
       "    standard_parallel: 25.0\n",
       "    earth_radius: 6371229.0\n",
       "    _CoordinateTransformType: Projection\n",
       "    _CoordinateAxisTypes: GeoX GeoY\n",
       "unlimited dimensions: \n",
       "current shape = ()\n",
       "filling on, default _FillValue of -2147483647 used"
      ]
     },
     "execution_count": 7,
     "metadata": {},
     "output_type": "execute_result"
    }
   ],
   "source": [
    "grid = nc[ncvar.grid_mapping]\n",
    "grid"
   ]
  },
  {
   "cell_type": "code",
   "execution_count": 8,
   "metadata": {
    "collapsed": false
   },
   "outputs": [],
   "source": [
    "lon0 = grid.longitude_of_central_meridian\n",
    "lat0 = grid.latitude_of_projection_origin\n",
    "lat1 = grid.standard_parallel\n",
    "earth_radius = grid.earth_radius"
   ]
  },
  {
   "cell_type": "markdown",
   "metadata": {},
   "source": [
    "## Try plotting the LambertConformal data with Cartopy"
   ]
  },
  {
   "cell_type": "code",
   "execution_count": 9,
   "metadata": {
    "collapsed": false
   },
   "outputs": [],
   "source": [
    "import cartopy\n",
    "import cartopy.crs as ccrs"
   ]
  },
  {
   "cell_type": "code",
   "execution_count": 13,
   "metadata": {
    "collapsed": false
   },
   "outputs": [],
   "source": [
    "#cartopy wants meters, not km\n",
    "x = nc['x'][:]*1000.\n",
    "y = nc['y'][:]*1000."
   ]
  },
  {
   "cell_type": "code",
   "execution_count": 14,
   "metadata": {
    "collapsed": false
   },
   "outputs": [],
   "source": [
    "#globe = ccrs.Globe(ellipse='WGS84') #default\n",
    "globe = ccrs.Globe(ellipse='sphere', semimajor_axis=grid.earth_radius)\n",
    "\n",
    "crs = ccrs.LambertConformal(central_longitude=lon0, central_latitude=lat0, \n",
    "                            standard_parallels=(lat0,lat1), globe=globe)"
   ]
  },
  {
   "cell_type": "code",
   "execution_count": 13,
   "metadata": {
    "collapsed": false
   },
   "outputs": [
    {
     "name": "stdout",
     "output_type": "stream",
     "text": [
      "(365,)\n",
      "(240,)\n",
      "(16, 1, 240, 365)\n"
     ]
    }
   ],
   "source": [
    "print(ncvar.x.data.shape)\n",
    "print(ncvar.y.data.shape)\n",
    "print(ncvar.data.shape)"
   ]
  },
  {
   "cell_type": "code",
   "execution_count": 15,
   "metadata": {
    "collapsed": false
   },
   "outputs": [
    {
     "ename": "AttributeError",
     "evalue": "NetCDF: Attribute not found",
     "output_type": "error",
     "traceback": [
      "\u001b[1;31m---------------------------------------------------------------------------\u001b[0m",
      "\u001b[1;31mAttributeError\u001b[0m                            Traceback (most recent call last)",
      "\u001b[1;32m<ipython-input-15-aa643affaed1>\u001b[0m in \u001b[0;36m<module>\u001b[1;34m()\u001b[0m\n\u001b[0;32m      1\u001b[0m \u001b[1;31m# find the correct time dimension name\u001b[0m\u001b[1;33m\u001b[0m\u001b[1;33m\u001b[0m\u001b[0m\n\u001b[1;32m----> 2\u001b[1;33m \u001b[1;32mfor\u001b[0m \u001b[0md\u001b[0m \u001b[1;32min\u001b[0m \u001b[0mncvar\u001b[0m\u001b[1;33m.\u001b[0m\u001b[0mdims\u001b[0m\u001b[1;33m:\u001b[0m\u001b[1;33m\u001b[0m\u001b[0m\n\u001b[0m\u001b[0;32m      3\u001b[0m     \u001b[1;32mif\u001b[0m \u001b[1;34m\"time\"\u001b[0m \u001b[1;32min\u001b[0m \u001b[0md\u001b[0m\u001b[1;33m:\u001b[0m\u001b[1;33m\u001b[0m\u001b[0m\n\u001b[0;32m      4\u001b[0m         \u001b[0mtimevar\u001b[0m \u001b[1;33m=\u001b[0m \u001b[0md\u001b[0m\u001b[1;33m\u001b[0m\u001b[0m\n\u001b[0;32m      5\u001b[0m \u001b[0mnc\u001b[0m\u001b[1;33m[\u001b[0m\u001b[0mtimevar\u001b[0m\u001b[1;33m]\u001b[0m\u001b[1;33m.\u001b[0m\u001b[0mdata\u001b[0m\u001b[1;33m[\u001b[0m\u001b[1;36m6\u001b[0m\u001b[1;33m]\u001b[0m\u001b[1;33m\u001b[0m\u001b[0m\n",
      "\u001b[1;32mnetCDF4\\_netCDF4.pyx\u001b[0m in \u001b[0;36mnetCDF4._netCDF4.Variable.__getattr__ (netCDF4\\_netCDF4.c:35950)\u001b[1;34m()\u001b[0m\n",
      "\u001b[1;32mnetCDF4\\_netCDF4.pyx\u001b[0m in \u001b[0;36mnetCDF4._netCDF4.Variable.getncattr (netCDF4\\_netCDF4.c:33312)\u001b[1;34m()\u001b[0m\n",
      "\u001b[1;32mnetCDF4\\_netCDF4.pyx\u001b[0m in \u001b[0;36mnetCDF4._netCDF4._get_att (netCDF4\\_netCDF4.c:4077)\u001b[1;34m()\u001b[0m\n",
      "\u001b[1;31mAttributeError\u001b[0m: NetCDF: Attribute not found"
     ]
    }
   ],
   "source": [
    "# find the correct time dimension name\n",
    "for d in ncvar.dims:\n",
    "    if \"time\" in d: \n",
    "        timevar = d\n",
    "nc[timevar].data[6]"
   ]
  },
  {
   "cell_type": "code",
   "execution_count": 16,
   "metadata": {
    "collapsed": false
   },
   "outputs": [
    {
     "name": "stderr",
     "output_type": "stream",
     "text": [
      "C:\\Users\\LLJ116\\Miniconda2\\lib\\site-packages\\matplotlib\\artist.py:221: MatplotlibDeprecationWarning: This has been deprecated in mpl 1.5, please use the\n",
      "axes property.  A removal date has not been set.\n",
      "  warnings.warn(_get_axes_msg, mplDeprecation, stacklevel=1)\n"
     ]
    },
    {
     "data": {
      "image/png": "[encoded data removed]",
      "text/plain": [
       "<matplotlib.figure.Figure at 0x7b23dd8>"
      ]
     },
     "metadata": {},
     "output_type": "display_data"
    }
   ],
   "source": [
    "istep = 6\n",
    "fig = plt.figure(figsize=(12,8))\n",
    "ax = plt.axes(projection=ccrs.PlateCarree())\n",
    "ax.pcolormesh(x,y,ncvar[istep,::].data.squeeze(), transform=crs,zorder=0)\n",
    "ax.coastlines(resolution='10m',color='black',zorder=1)\n",
    "gl = ax.gridlines(draw_labels=True)\n",
    "gl.xlabels_top = False\n",
    "gl.ylabels_right = False\n",
    "#plt.title(nc[timevar].data[istep]);"
   ]
  },
  {
   "cell_type": "code",
   "execution_count": null,
   "metadata": {
    "collapsed": true
   },
   "outputs": [],
   "source": []
  }
 ],
 "metadata": {
  "gist_id": "310b790a3a2cfdc8d06e",
  "kernelspec": {
   "display_name": "Python 2",
   "language": "python",
   "name": "python2"
  },
  "language_info": {
   "codemirror_mode": {
    "name": "ipython",
    "version": 2
   },
   "file_extension": ".py",
   "mimetype": "text/x-python",
   "name": "python",
   "nbconvert_exporter": "python",
   "pygments_lexer": "ipython2",
   "version": "2.7.11"
  }
 },
 "nbformat": 4,
 "nbformat_minor": 0
}
