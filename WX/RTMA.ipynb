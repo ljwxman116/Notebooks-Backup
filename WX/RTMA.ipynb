{
 "cells": [
  {
   "cell_type": "code",
   "execution_count": null,
   "metadata": {
    "collapsed": false
   },
   "outputs": [],
   "source": [
    "%matplotlib inline\n",
    "import datetime\n",
    "dateZ0 = datetime.datetime.utcnow()\n",
    "import matplotlib.pyplot as plt\n",
    "import numpy as np\n",
    "from siphon.catalog import get_latest_access_url\n",
    "import netCDF4\n",
    "import matplotlib\n",
    "from mpl_toolkits.basemap import Basemap, cm\n",
    "from netCDF4 import num2date\n",
    "import cartopy\n",
    "import cartopy.crs as ccrs\n",
    "import cartopy.feature as cfeat\n",
    "rtma_catalog=\"http://thredds.ucar.edu/thredds/catalog/grib/NCEP/RTMA/CONUS_2p5km/catalog.xml\"\n",
    "latest_rtma=get_latest_access_url(rtma_catalog,\"OPENDAP\")\n",
    "#print latest_rtma\n",
    "rtma=netCDF4.Dataset(latest_rtma)\n",
    "time_var = rtma.variables['time']\n",
    "timestamp = num2date(time_var[:].squeeze(), time_var.units)\n",
    "x=(rtma.variables['x'][:])*1000\n",
    "y=(rtma.variables['y'][:])*1000\n",
    "T=rtma.variables['Temperature_Analysis_height_above_ground']\n",
    "Tp=((T[0,0,:,:])*1.8-459.67)\n",
    "W=rtma.variables['Wind_speed_Analysis_height_above_ground']\n",
    "Wp=((W[0,0,:,:])*(3600/1609.344))\n",
    "Td=rtma.variables['Dewpoint_temperature_Analysis_height_above_ground']\n",
    "Tdp=((Td[0,0,:,:])*1.8-459.67)\n",
    "C=rtma.variables['Total_cloud_cover_Analysis_entire_atmosphere_single_layer']\n",
    "Cp=(C[0,:,:])\n",
    "V=rtma.variables['Visibility_Analysis_surface']\n",
    "Vp=(V[0,:,:])*(1/1609.344)\n",
    "Wg=rtma.variables['Wind_speed_gust_Analysis_height_above_ground']\n",
    "Wgp=((Wg[0,0,:,:])*(3600/1609.344))\n",
    "state=cfeat.NaturalEarthFeature(category='cultural',\n",
    "                                name='admin_1_states_provinces_lines',\n",
    "                                scale='10m', facecolor='none')\n",
    "lakes=cfeat.NaturalEarthFeature(category='physical',\n",
    "                                name='lakes',\n",
    "                                scale='10m', facecolor='none')\n",
    "grid = rtma[T.grid_mapping]\n",
    "lon0 = grid.longitude_of_central_meridian\n",
    "lat0 = grid.latitude_of_projection_origin\n",
    "lat1 = grid.standard_parallel\n",
    "earth_radius = grid.earth_radius\n",
    "globe = ccrs.Globe(ellipse='sphere', semimajor_axis=grid.earth_radius)\n",
    "crs = ccrs.LambertConformal(central_longitude=lon0, central_latitude=lat0, \n",
    "                            standard_parallels=(lat0,lat1), globe=globe)\n",
    "#print 'READY!'\n",
    "dateZ1 = datetime.datetime.utcnow()\n",
    "print dateZ1-dateZ0\n",
    "print timestamp"
   ]
  },
  {
   "cell_type": "code",
   "execution_count": null,
   "metadata": {
    "collapsed": true
   },
   "outputs": [],
   "source": [
    "import matplotlib.pyplot as plt\n",
    "import numpy as np\n",
    "%matplotlib inline\n",
    "from siphon.catalog import get_latest_access_url\n",
    "\n",
    "rtma_catalog = \"http://thredds.ucar.edu/thredds/catalog/grib/NCEP/RTMA/CONUS_2p5km/catalog.xml\"\n",
    "latest_rtma_ncss = get_latest_access_url(rtma_catalog, \"NetcdfSubset\")\n",
    "\n",
    "# Set up access via NCSS\n",
    "from siphon.ncss import NCSS\n",
    "ncss = NCSS(latest_rtma_ncss)\n",
    "\n",
    "# Create a query to ask for all times in netcdf4 format for\n",
    "# the Temperature_surface variable, with a bounding box\n",
    "query = ncss.query()"
   ]
  },
  {
   "cell_type": "code",
   "execution_count": null,
   "metadata": {
    "collapsed": false
   },
   "outputs": [],
   "source": [
    "query.all_times().accept('netcdf4').variables('Temperature_Analysis_height_above_ground')\n",
    "query.lonlat_box(north=44, south=36, east=-86, west=-93)\n",
    "\n",
    "# Get the raw bytes and write to a file.\n",
    "data = ncss.get_data_raw(query)\n",
    "with open('test.nc', 'wb') as outf:\n",
    "    outf.write(data)"
   ]
  },
  {
   "cell_type": "code",
   "execution_count": null,
   "metadata": {
    "collapsed": true
   },
   "outputs": [],
   "source": [
    "import netCDF4\n",
    "nc = netCDF4.Dataset('test.nc')"
   ]
  },
  {
   "cell_type": "code",
   "execution_count": null,
   "metadata": {
    "collapsed": false,
    "scrolled": true
   },
   "outputs": [],
   "source": [
    "var='Temperature_Analysis_height_above_ground'\n",
    "ncvar = nc[var]\n",
    "ncvar"
   ]
  },
  {
   "cell_type": "code",
   "execution_count": null,
   "metadata": {
    "collapsed": false,
    "scrolled": true
   },
   "outputs": [],
   "source": [
    "grid = nc[ncvar.grid_mapping]\n",
    "grid"
   ]
  },
  {
   "cell_type": "code",
   "execution_count": null,
   "metadata": {
    "collapsed": true
   },
   "outputs": [],
   "source": [
    "lon0 = grid.longitude_of_central_meridian\n",
    "lat0 = grid.latitude_of_projection_origin\n",
    "lat1 = grid.standard_parallel\n",
    "earth_radius = grid.earth_radius"
   ]
  },
  {
   "cell_type": "code",
   "execution_count": null,
   "metadata": {
    "collapsed": true
   },
   "outputs": [],
   "source": [
    "import cartopy\n",
    "import cartopy.crs as ccrs\n",
    "#cartopy wants meters, not km\n",
    "x = (nc['x'][:])*1000\n",
    "y = (nc['y'][:])*1000\n",
    "#globe = ccrs.Globe(ellipse='WGS84') #default\n",
    "globe = ccrs.Globe(ellipse='sphere', semimajor_axis=grid.earth_radius)\n",
    "\n",
    "crs = ccrs.LambertConformal(central_longitude=lon0, central_latitude=lat0, \n",
    "                            standard_parallels=(lat0,lat1), globe=globe)\n"
   ]
  },
  {
   "cell_type": "code",
   "execution_count": null,
   "metadata": {
    "collapsed": false
   },
   "outputs": [],
   "source": [
    "import cartopy.feature as cfeat\n",
    "state=cfeat.NaturalEarthFeature(category='cultural',\n",
    "                                name='admin_1_states_provinces_lines',\n",
    "                                scale='10m', facecolor='none')\n",
    "\n",
    "f=np.arange(20,40,5)\n",
    "fig = plt.figure(figsize=(14,15))\n",
    "ax = plt.axes(projection=ccrs.PlateCarree())\n",
    "ax.set_extent([-92,-87,43, 37],ccrs.Geodetic())\n",
    "#ax.pcolormesh(x,y,ncvar[0,0].data.squeeze(), transform=crs,zorder=0)\n",
    "ax.contourf(x,y,ncvar[0,0],f,transform=crs)\n",
    "ax.coastlines(resolution='10m',color='black')\n",
    "ax.add_feature(state)\n",
    "#plt.title(nc[timevar].data[istep]);"
   ]
  },
  {
   "cell_type": "code",
   "execution_count": null,
   "metadata": {
    "collapsed": false,
    "scrolled": false
   },
   "outputs": [],
   "source": [
    "%matplotlib inline\n",
    "import datetime\n",
    "dateZ0 = datetime.datetime.utcnow()\n",
    "dateZ = datetime.datetime.utcnow()\n",
    "dateZ = datetime.datetime.now()\n",
    "import matplotlib\n",
    "import matplotlib.pyplot as plt\n",
    "from mpl_toolkits.basemap import Basemap, cm\n",
    "import netCDF4\n",
    "from netCDF4 import num2date\n",
    "import numpy as np\n",
    "import datetime\n",
    "import cartopy\n",
    "import cartopy.crs as ccrs\n",
    "import cartopy.feature as cfeat\n",
    "if dateZ.hour==0:\n",
    "    URL = 'http://thredds.ucar.edu/thredds/dodsC/grib/NCEP/RTMA/CONUS_2p5km/RTMA_CONUS_2p5km_%04i%02i%02i_%02i%02i.grib2/GC' %\\\n",
    "(dateZ.year,dateZ.month,date.day,(dateZ.hour)+23,0)\n",
    "    # keep moving back 6 hours until a valid URL found\n",
    "    validURL = False; ncount = 0\n",
    "    while (not validURL and ncount < 1):\n",
    "        print(URL)\n",
    "        try:\n",
    "            rtma = netCDF4.Dataset(URL)\n",
    "            validURL = True\n",
    "            print 'VALID'\n",
    "        except RuntimeError:\n",
    "            date -= datetime.timedelta(hours=1)\n",
    "            ncount += 1  \n",
    "            print '***NOT VALID***'\n",
    "URL = 'http://thredds.ucar.edu/thredds/dodsC/grib/NCEP/RTMA/CONUS_2p5km/RTMA_CONUS_2p5km_%04i%02i%02i_%02i%02i.grib2/GC' %\\\n",
    "(dateZ.year,dateZ.month,dateZ.day,(dateZ.hour)-2,0)\n",
    "# keep moving back 6 hours until a valid URL found\n",
    "validURL = False; ncount = 0\n",
    "while (not validURL and ncount < 1):\n",
    "    print(URL)\n",
    "    try:\n",
    "        rtma = netCDF4.Dataset(URL)\n",
    "        validURL = True\n",
    "        print 'VALID'\n",
    "    except RuntimeError:\n",
    "        date -= datetime.timedelta(hours=1)\n",
    "        ncount += 1  \n",
    "        print '***NOT VALID***'\n",
    "URL = 'http://thredds.ucar.edu/thredds/dodsC/grib/NCEP/RTMA/CONUS_2p5km/RTMA_CONUS_2p5km_%04i%02i%02i_%02i%02i.grib2/GC' %\\\n",
    "(dateZ.year,dateZ.month,dateZ.day,(dateZ.hour)-1,0)\n",
    "# keep moving back 6 hours until a valid URL found\n",
    "validURL = False; ncount = 0\n",
    "while (not validURL and ncount < 1):\n",
    "    print(URL)\n",
    "    try:\n",
    "        rtma = netCDF4.Dataset(URL)\n",
    "        validURL = True\n",
    "        print 'VALID'\n",
    "    except RuntimeError:\n",
    "        date -= datetime.timedelta(hours=1)\n",
    "        ncount += 1  \n",
    "        print '***NOT VALID***'\n",
    "URL = 'http://thredds.ucar.edu/thredds/dodsC/grib/NCEP/RTMA/CONUS_2p5km/RTMA_CONUS_2p5km_%04i%02i%02i_%02i%02i.grib2/GC' %\\\n",
    "(dateZ.year,dateZ.month,dateZ.day,(dateZ.hour),0)\n",
    "# keep moving back 6 hours until a valid URL found\n",
    "validURL = False; ncount = 0\n",
    "while (not validURL and ncount < 1):\n",
    "    print(URL)\n",
    "    try:\n",
    "        rtma = netCDF4.Dataset(URL)\n",
    "        validURL = True\n",
    "        print 'VALID'\n",
    "    except RuntimeError:\n",
    "        date -= datetime.timedelta(hours=1)\n",
    "        ncount += 1  \n",
    "        print '***NOT VALID***'\n",
    "time_var = rtma.variables['time']\n",
    "timestamp = num2date(time_var[:].squeeze(), time_var.units)\n",
    "#print 'INT: %s'%timestamp.strftime('%x %H Z')\n",
    "#print 'INT:%02i%02i'%((dateZ.hour)-1,0)\n",
    "#timeunits=rtma.variables['time'].units\n",
    "#print 'INT: %s'%timeunits\n",
    "x=(rtma.variables['x'][:])*1000\n",
    "y=(rtma.variables['y'][:])*1000\n",
    "#x,y=np.meshgrid(x,y)\n",
    "T=rtma.variables[u'Temperature_Analysis_height_above_ground']\n",
    "Tp=((T[0,0,:,:])*1.8-459.67)\n",
    "W=rtma.variables['Wind_speed_Analysis_height_above_ground']\n",
    "Wp=((W[0,0,:,:])*(3600/1609.344))\n",
    "Td=rtma.variables['Dewpoint_temperature_Analysis_height_above_ground']\n",
    "Tdp=((Td[0,0,:,:])*1.8-459.67)\n",
    "C=rtma.variables['Total_cloud_cover_Analysis_entire_atmosphere_single_layer']\n",
    "Cp=(C[0,:,:])\n",
    "V=rtma.variables['Visibility_Analysis_surface']\n",
    "Vp=(V[0,:,:])*(1/1609.344)\n",
    "Wg=rtma.variables['Wind_speed_gust_Analysis_height_above_ground']\n",
    "Wgp=((Wg[0,0,:,:])*(3600/1609.344))\n",
    "\n",
    "state=cfeat.NaturalEarthFeature(category='cultural',\n",
    "                                name='admin_1_states_provinces_lines',\n",
    "                                scale='10m', facecolor='none')\n",
    "lakes=cfeat.NaturalEarthFeature(category='physical',\n",
    "                                name='lakes',\n",
    "                                scale='10m', facecolor='none')\n",
    "grid = rtma[T.grid_mapping]\n",
    "lon0 = grid.longitude_of_central_meridian\n",
    "lat0 = grid.latitude_of_projection_origin\n",
    "lat1 = grid.standard_parallel\n",
    "earth_radius = grid.earth_radius\n",
    "globe = ccrs.Globe(ellipse='sphere', semimajor_axis=grid.earth_radius)\n",
    "crs = ccrs.LambertConformal(central_longitude=lon0, central_latitude=lat0, \n",
    "                            standard_parallels=(lat0,lat1), globe=globe)\n",
    "dateZ1 = datetime.datetime.utcnow()\n",
    "print dateZ1-dateZ0"
   ]
  },
  {
   "cell_type": "code",
   "execution_count": null,
   "metadata": {
    "collapsed": false
   },
   "outputs": [],
   "source": [
    "a=92-87\n",
    "b=43-37\n",
    "print 'figsize=%s,%s'%(a,b)\n",
    "c=abs(a-b)\n",
    "print 'Diff=%s'%c"
   ]
  },
  {
   "cell_type": "code",
   "execution_count": null,
   "metadata": {
    "collapsed": false
   },
   "outputs": [],
   "source": [
    "from mpl_toolkits.basemap import Basemap\n",
    "m = Basemap(width=12000000,height=9000000,rsphere=6371200.0,\n",
    "            projection='lcc',resolution='c',lat_1=25.,lat_2=25,\n",
    "            lat_0=25,lon_0=265.)\n",
    "m.fillcontinents(color='coral',lake_color='aqua')\n",
    "lon, lat = -88.832842, 42.275721 # Location of Boulder\n",
    "# convert to map projection coords.\n",
    "# Note that lon,lat can be scalars, lists or numpy arrays.\n",
    "xpt,ypt = m(lon,lat)\n",
    "# convert back to lat/lon\n",
    "lonpt, latpt = m(xpt,ypt,inverse=True)\n",
    "m.plot(xpt,ypt,'bo')  # plot a blue dot there\n",
    "# put some text next to the dot, offset a little bit\n",
    "# (the offset is in map projection coordinates)\n",
    "plt.text(xpt+100000,ypt+100000,'Belvidere (%5.1fW,%3.1fN)' % (lonpt,latpt))"
   ]
  },
  {
   "cell_type": "code",
   "execution_count": null,
   "metadata": {
    "collapsed": false
   },
   "outputs": [],
   "source": [
    "print 'xpt=%s'%xpt\n",
    "print 'ypt=%s'%ypt"
   ]
  },
  {
   "cell_type": "code",
   "execution_count": null,
   "metadata": {
    "collapsed": false,
    "scrolled": false
   },
   "outputs": [],
   "source": [
    "from scipy.ndimage.filters import gaussian_filter\n",
    "from matplotlib.pyplot import contour, show\n",
    "dateZ = datetime.datetime.utcnow()\n",
    "sigma=1 \n",
    "data=gaussian_filter(Tp,sigma)\n",
    "c = np.arange(30,70,5)\n",
    "fig=plt.figure(figsize=(14,15)) #14,15\n",
    "#plt.figure()\n",
    "ax=plt.axes(projection=ccrs.PlateCarree())\n",
    "ax.set_extent([-92,-87,43, 37],ccrs.Geodetic())\n",
    "a=ax.pcolormesh(x,y,Tp.squeeze(),transform=crs,zorder=0,\n",
    "                cmap='nipy_spectral')\n",
    "#a=ax.contourf(x,y,Tp.squeeze(),c,transform=crs,zorder=0,\n",
    "#                cmap='nipy_spectral')\n",
    "#ax.contour(x,y,Tp.squeeze(),c,transform=crs,colors='k')\n",
    "t=ax.contour(x,y,data.squeeze(),c,transform=crs,colors='k')\n",
    "ax.add_feature(state)\n",
    "ax.add_feature(lakes,edgecolors='blue')\n",
    "ax.set_title(u'RTMA T°F Analysis @ %s'%timestamp.strftime('%x %H Z'),\n",
    "          fontsize=20)\n",
    "colorbar_ax = fig.add_axes([.86,0.125,0.05,0.775])#[0.7, 0.1, 0.05, 0.8]\n",
    "plt.colorbar(a,cax=colorbar_ax) #a\n",
    "g=ax.text(0.331,0.0045,dateZ.strftime('Generated @ %x %H:%M:%S Z'),\n",
    "        horizontalalignment='right',verticalalignment='bottom',\n",
    "        transform=ax.transAxes,fontsize=12,color='w',\n",
    "        fontweight='semibold')\n",
    "g.set_bbox(dict(color='black',alpha=0.65))\n",
    "#plt.clabel(t, fontsize=10)"
   ]
  },
  {
   "cell_type": "code",
   "execution_count": null,
   "metadata": {
    "collapsed": false
   },
   "outputs": [],
   "source": [
    "fig=plt.figure(figsize=(14,15)) \n",
    "ax=plt.axes(projection=ccrs.PlateCarree())\n",
    "ax.set_extent([-92,-87,43,37],ccrs.Geodetic())\n",
    "b=ax.pcolormesh(x,y,Tdp.squeeze(),cmap='nipy_spectral',transform=crs,zorder=0)\n",
    "ax.add_feature(state)\n",
    "ax.add_feature(lakes,edgecolors='blue')\n",
    "ax.set_title(u'RTMA Td°F Analysis @ %s'%timestamp.strftime('%x %H Z'),\n",
    "          fontsize=20)\n",
    "colorbar_ax = fig.add_axes([.86, 0.125, 0.05, .775])#[0.7, 0.1, 0.05, 0.8]\n",
    "plt.colorbar(b, cax=colorbar_ax)"
   ]
  },
  {
   "cell_type": "code",
   "execution_count": null,
   "metadata": {
    "collapsed": false,
    "scrolled": false
   },
   "outputs": [],
   "source": [
    "fig=plt.figure(figsize=(14,15)) \n",
    "ax=plt.axes(projection=ccrs.PlateCarree())\n",
    "ax.set_extent([-92,-87,43,37],ccrs.Geodetic())\n",
    "c=ax.pcolormesh(x,y,Wp.squeeze(),cmap='nipy_spectral',transform=crs,zorder=0)\n",
    "#ax.pcolormesh(x,y,Wp.squeeze(),transform=crs,zorder=0)\n",
    "ax.add_feature(state)\n",
    "ax.add_feature(lakes,edgecolors='blue')\n",
    "ax.set_title(u'RTMA Wind (mph) Analysis @ %s'%timestamp.strftime('%x %H Z'),\n",
    "          fontsize=20)\n",
    "colorbar_ax=fig.add_axes([.86,0.125,0.05,0.775])#[0.7, 0.1, 0.05, 0.8]\n",
    "plt.colorbar(c,cax=colorbar_ax)"
   ]
  },
  {
   "cell_type": "code",
   "execution_count": null,
   "metadata": {
    "collapsed": false,
    "scrolled": false
   },
   "outputs": [],
   "source": [
    "fig=plt.figure(figsize=(14,15)) \n",
    "ax=plt.axes(projection=ccrs.PlateCarree())\n",
    "ax.set_extent([-92,-87,43,37],ccrs.Geodetic())\n",
    "d=ax.pcolormesh(x,y,Cp.squeeze(),cmap='magma_r',transform=crs,zorder=0)\n",
    "ax.add_feature(state,edgecolors='red')\n",
    "ax.add_feature(lakes,edgecolors='blue')\n",
    "ax.set_title(u'RTMA Cloud Cover (%%) Analysis @ %s'%timestamp.strftime('%x %H Z'),\n",
    "          fontsize=20)\n",
    "colorbar_ax=fig.add_axes([0.86,0.125,0.05,0.775])#[0.7, 0.1, 0.05, 0.8]\n",
    "plt.colorbar(d,cax=colorbar_ax)"
   ]
  },
  {
   "cell_type": "code",
   "execution_count": null,
   "metadata": {
    "collapsed": false,
    "scrolled": false
   },
   "outputs": [],
   "source": [
    "#cf=np.arange(0,13,1)\n",
    "#fig=plt.figure() \n",
    "fig=plt.figure(figsize=(14,15))\n",
    "ax=plt.axes(projection=ccrs.PlateCarree())\n",
    "ax.set_extent([-92,-87,43,37],ccrs.Geodetic())\n",
    "s=ax.pcolormesh(x,y,Vp.squeeze(),cmap='Set1',transform=crs,zorder=0)\n",
    "#g=ax.contourf(x,y,Vp.squeeze(),cf,cmap='Set1')\n",
    "ax.add_feature(state)\n",
    "ax.add_feature(lakes,edgecolors='blue')\n",
    "ax.set_title(u'RTMA Visibility (mi) Analysis @ %s'%timestamp.strftime('%x %H Z'),\n",
    "          fontsize=20)\n",
    "colorbar_ax = fig.add_axes([.86, 0.125, 0.05, .775])#[0.7, 0.1, 0.05, 0.8]\n",
    "plt.colorbar(s, cax=colorbar_ax)\n",
    "#plt.colorbar(g, cax=colorbar_ax)"
   ]
  },
  {
   "cell_type": "code",
   "execution_count": null,
   "metadata": {
    "collapsed": false,
    "scrolled": false
   },
   "outputs": [],
   "source": [
    "fig=plt.figure(figsize=(14,15)) \n",
    "ax=plt.axes(projection=ccrs.PlateCarree())\n",
    "ax.set_extent([-92,-87,43,37],ccrs.Geodetic())\n",
    "e=ax.pcolormesh(x,y,Wgp.squeeze(),cmap='nipy_spectral',transform=crs,zorder=0)\n",
    "ax.add_feature(state)\n",
    "ax.add_feature(lakes,edgecolors='blue')\n",
    "ax.set_title(u'RTMA Wind Gust (mph) Analysis @ %s'%timestamp.strftime('%x %H Z'),\n",
    "          fontsize=20)\n",
    "colorbar_ax=fig.add_axes([0.86,0.125,0.05,0.775])#[0.7, 0.1, 0.05, 0.8]\n",
    "plt.colorbar(e,cax=colorbar_ax)"
   ]
  },
  {
   "cell_type": "code",
   "execution_count": null,
   "metadata": {
    "collapsed": true
   },
   "outputs": [],
   "source": [
    "# x=rtma.variables['x'][:]\n",
    "y=rtma.variables['y'][:]\n",
    "x,y=np.meshgrid(x,y)\n",
    "T=rtma.variables[u'Temperature_Analysis_height_above_ground']\n",
    "Tp=((T[0,0,:,:])*1.8-459.67)"
   ]
  },
  {
   "cell_type": "code",
   "execution_count": null,
   "metadata": {
    "collapsed": false,
    "scrolled": false
   },
   "outputs": [],
   "source": [
    "# -*- coding: utf-8 -*-\n",
    "fig=plt.figure(figsize=(12,8)) #x:1200,y:800\n",
    "cf=np.arange(20,80,1)\n",
    "c=np.arange(20,80,5)\n",
    "plt.contourf(x,y,Tp,cf,cmap='nipy_spectral')\n",
    "plt.contour(x,y,Tp,c,colors='black')\n",
    "plt.title(u'RTMA T°F Analysis @ %s'%timestamp.strftime('%x %H Z'),\n",
    "          fontsize=20)\n",
    "plt.xlim(-400,800)\n",
    "plt.ylim(1400,2200)"
   ]
  },
  {
   "cell_type": "code",
   "execution_count": null,
   "metadata": {
    "collapsed": false
   },
   "outputs": [],
   "source": [
    "W=rtma.variables['Wind_speed_Analysis_height_above_ground']\n",
    "Wp=((W[0,0,:,:])*(3600/1609.344))"
   ]
  },
  {
   "cell_type": "code",
   "execution_count": null,
   "metadata": {
    "collapsed": false,
    "scrolled": false
   },
   "outputs": [],
   "source": [
    "# -*- coding: utf-8 -*-\n",
    "fig=plt.figure(figsize=(12,8))\n",
    "c1=np.arange(0,50,.5)\n",
    "plt.contourf(x,y,Wp,c1,cmap='nipy_spectral')\n",
    "plt.title(u'RTMA Wind (mph) Analysis @ %s'%timestamp.strftime('%x %H Z'),\n",
    "          fontsize=20)\n",
    "plt.xlim(-400,800)\n",
    "plt.ylim(1400,2200)"
   ]
  },
  {
   "cell_type": "code",
   "execution_count": null,
   "metadata": {
    "collapsed": false
   },
   "outputs": [],
   "source": [
    "print 'Wmin %s mph'%np.amin(Wp)\n",
    "print 'Wmax %s mph'%np.amax(Wp)"
   ]
  },
  {
   "cell_type": "code",
   "execution_count": null,
   "metadata": {
    "collapsed": false
   },
   "outputs": [],
   "source": [
    "Td=rtma.variables['Dewpoint_temperature_Analysis_height_above_ground']\n",
    "Tdp=((Td[0,0,:,:])*1.8-459.67)"
   ]
  },
  {
   "cell_type": "code",
   "execution_count": null,
   "metadata": {
    "collapsed": false
   },
   "outputs": [],
   "source": [
    "fig=plt.figure(figsize=(12,8))\n",
    "plt.xlim(-400,800)\n",
    "plt.ylim(1400,2200)\n",
    "c2=np.arange(32,70,1)\n",
    "plt.contourf(x,y,Tdp,c2,cmap='nipy_spectral')\n",
    "plt.title(u'RTMA Td°F Analysis @ %s'%timestamp.strftime('%x %H Z'),\n",
    "          fontsize=20)"
   ]
  },
  {
   "cell_type": "code",
   "execution_count": null,
   "metadata": {
    "collapsed": false
   },
   "outputs": [],
   "source": [
    "print 'Tdmin %s mph'%np.amin(Tdp)\n",
    "print 'Tdmax %s mph'%np.amax(Tdp)"
   ]
  },
  {
   "cell_type": "code",
   "execution_count": null,
   "metadata": {
    "collapsed": true
   },
   "outputs": [],
   "source": []
  }
 ],
 "metadata": {
  "kernelspec": {
   "display_name": "Python 2",
   "language": "python",
   "name": "python2"
  },
  "language_info": {
   "codemirror_mode": {
    "name": "ipython",
    "version": 2
   },
   "file_extension": ".py",
   "mimetype": "text/x-python",
   "name": "python",
   "nbconvert_exporter": "python",
   "pygments_lexer": "ipython2",
   "version": "2.7.11"
  }
 },
 "nbformat": 4,
 "nbformat_minor": 0
}
