{
 "cells": [
  {
   "cell_type": "code",
   "execution_count": 1,
   "metadata": {
    "collapsed": false
   },
   "outputs": [
    {
     "name": "stdout",
     "output_type": "stream",
     "text": [
      "EAST-CONUS_4km_WV_20160302_2045.gini\n"
     ]
    }
   ],
   "source": [
    "import urllib2\n",
    "from urllib2 import Request, urlopen\n",
    "from metpy.io.gini import GiniFile\n",
    "from siphon.catalog import TDSCatalog\n",
    "from netCDF4 import num2date\n",
    "import cartopy.feature as cfeat\n",
    "cat = TDSCatalog('http://thredds.ucar.edu/thredds/catalog/satellite/WV/EAST-CONUS_4km/current/catalog.xml')\n",
    "dataset_name = sorted(cat.datasets.keys())[-1]\n",
    "print dataset_name"
   ]
  },
  {
   "cell_type": "code",
   "execution_count": null,
   "metadata": {
    "collapsed": false,
    "scrolled": true
   },
   "outputs": [],
   "source": [
    "# Imports\n",
    "import urllib2\n",
    "from urllib2 import Request, urlopen\n",
    "from metpy.io.gini import GiniFile\n",
    "from siphon.catalog import TDSCatalog\n",
    "from netCDF4 import num2date\n",
    "import cartopy.feature as cfeat\n",
    "cat = TDSCatalog('http://thredds.ucar.edu/thredds/catalog/satellite/WV/EAST-CONUS_4km/current/catalog.xml')\n",
    "dataset_name = sorted(cat.datasets.keys())[-1]\n",
    "dataset = cat.datasets[dataset_name]\n",
    "remote_gini_file = urlopen(dataset.access_urls['HTTPServer'])\n",
    "gini = GiniFile(remote_gini_file)\n",
    "gini_ds = gini.to_dataset()\n",
    "data_var = gini_ds.variables['WV']\n",
    "x = gini_ds.variables['x'][:]\n",
    "y = gini_ds.variables['y'][:]\n",
    "proj_var = gini_ds.variables[data_var.grid_mapping]\n",
    "import cartopy.crs as ccrs\n",
    "globe = ccrs.Globe(ellipse='sphere', semimajor_axis=proj_var.earth_radius,\n",
    "                   semiminor_axis=proj_var.earth_radius)\n",
    "proj = ccrs.LambertConformal(central_longitude=proj_var.longitude_of_central_meridian,\n",
    "                             central_latitude=proj_var.latitude_of_projection_origin,\n",
    "                             standard_parallels=[proj_var.standard_parallel],\n",
    "                             globe=globe)\n",
    "state_boundaries = cfeat.NaturalEarthFeature(category='cultural',\n",
    "                                             name='admin_1_states_provinces_lines',\n",
    "                                             scale='50m', facecolor='none')\n",
    "lakes=cfeat.NaturalEarthFeature(category='physical',\n",
    "                                name='lakes',\n",
    "                                scale='10m', facecolor='none')\n",
    "time_var = gini_ds.variables['time']\n",
    "timestamp = num2date(time_var[:].squeeze(), time_var.units)\n",
    "print timestamp\n",
    "import datetime\n",
    "dateZ = datetime.datetime.utcnow()\n",
    "date=datetime.datetime.now()\n",
    "print 'Now:%s' %dateZ"
   ]
  },
  {
   "cell_type": "code",
   "execution_count": null,
   "metadata": {
    "collapsed": false,
    "scrolled": false
   },
   "outputs": [],
   "source": [
    "# Make sure the notebook puts figures inline\n",
    "%matplotlib inline\n",
    "dateZ = datetime.datetime.utcnow()\n",
    "import matplotlib.pyplot as plt\n",
    "from metpy.plots.ctables import registry\n",
    "from matplotlib import patheffects\n",
    "from netCDF4 import num2date\n",
    "time_var = gini_ds.variables['time']\n",
    "timestamp = num2date(time_var[:].squeeze(), time_var.units)\n",
    "#print timestamp\n",
    "print 'image forthcoming.........'\n",
    "fig = plt.figure(figsize=(25,23.5))\n",
    "#wv_norm, wv_cmap = registry.get_with_steps('WVCIMSS', 0, 1)\n",
    "wv_norm, wv_cmap = registry.get_with_steps('wv_tpc', 0, 1)\n",
    "ax = fig.add_subplot(111,projection=proj)#1,1,1,\n",
    "#Bounding box: http://boundingbox.klokantech.com/\n",
    "ax.set_extent([-114,-86,48.5, 25], ccrs.Geodetic()) #[left,right,up,down] #[lon_0, lon_1, lat_0, lat_1])\n",
    "\n",
    "im = ax.imshow(data_var[:],extent=(x[0], x[-1], y[0], y[-1]), origin='upper',\n",
    "               cmap=wv_cmap,norm=wv_norm)\n",
    "               #norm=plt.Normalize(140, 255))\n",
    "'''\n",
    "im = ax.imshow(data_var[:],extent=(x[0], x[-1], y[0], y[-1]), origin='upper',\n",
    "               cmap='gist_ncar',norm=plt.Normalize(140, 160))\n",
    "             \n",
    "#Upper level low 'detection':\n",
    "im = ax.imshow(data_var[:],extent=(x[0], x[-1], y[0], y[-1]), origin='upper',\n",
    "               cmap='nipy_spectral',norm=plt.Normalize(140, 145))\n",
    "'''\n",
    "ax.coastlines(resolution='50m')#,color='white')\n",
    "ax.add_feature(state_boundaries)#, color='white')\n",
    "ax.add_feature(cfeat.BORDERS, linewidth='2')#, color='white')\n",
    "ax.add_feature(lakes)#,edgecolors='blue')\n",
    "#http://strftime.org/ strftime doc\n",
    "#http://matplotlib.org/api/text_api.html#matplotlib.text.Text text docs\n",
    "t=ax.text(.998,0.00252,timestamp.strftime('%x %H:%M:%S Z'), #%d %B %Y %H:%M:%S Z\n",
    "        horizontalalignment='right',verticalalignment='bottom',\n",
    "        transform=ax.transAxes,fontsize=26,color='white',\n",
    "        fontweight='bold')\n",
    "t.set_bbox(dict(color='black',alpha=0.65))\n",
    "g=ax.text(0.288,0.00252,dateZ.strftime('Generated @ %x %H:%M:%S Z'),\n",
    "        horizontalalignment='right',verticalalignment='bottom',\n",
    "        transform=ax.transAxes,fontsize=20,color='lightgray',\n",
    "        fontweight='semibold')\n",
    "g.set_bbox(dict(color='black',alpha=0.65))\n",
    "'''\n",
    "colorbar_ax = fig.add_axes([.883, 0.125, 0.05, .775])#[0.7, 0.1, 0.05, 0.8]\n",
    "plt.colorbar(im, cax=colorbar_ax)\n",
    "fig.savefig('WV_tpc w cb.png', bbox_inches='tight',dpi=200)\n",
    "'''"
   ]
  },
  {
   "cell_type": "code",
   "execution_count": null,
   "metadata": {
    "collapsed": false
   },
   "outputs": [],
   "source": [
    "import numpy as np\n",
    "print 'Tmin %s'%np.amin((data_var[:]))\n",
    "print 'Tmax %s'%np.amax((data_var[:]))"
   ]
  },
  {
   "cell_type": "markdown",
   "metadata": {
    "collapsed": true
   },
   "source": [
    "*Accent, Accent_r, Blues, Blues_r, BrBG, BrBG_r, BuGn, BuGn_r, BuPu, BuPu_r, CMRmap, \n",
    "CMRmap_r, Dark2, Dark2_r, GnBu, GnBu_r, Greens, Greens_r, Greys, Greys_r, OrRd, OrRd_r, \n",
    "Oranges, Oranges_r, PRGn, PRGn_r, Paired, Paired_r, Pastel1, Pastel1_r, Pastel2, Pastel2_r, \n",
    "PiYG, PiYG_r, PuBu, PuBuGn, PuBuGn_r, PuBu_r, PuOr, PuOr_r, PuRd, PuRd_r, Purples, Purples_r, \n",
    "RdBu, RdBu_r, RdGy, RdGy_r, RdPu, RdPu_r, RdYlBu, RdYlBu_r, RdYlGn, RdYlGn_r, Reds, Reds_r, \n",
    "Set1, Set1_r, Set2, Set2_r, Set3, Set3_r, Spectral, Spectral_r, Wistia, Wistia_r, YlGn, \n",
    "YlGnBu, YlGnBu_r, YlGn_r, YlOrBr, YlOrBr_r, YlOrRd, YlOrRd_r, afmhot, afmhot_r, autumn, \n",
    "autumn_r, binary, binary_r, bone, bone_r, brg, brg_r, bwr, bwr_r, cool, cool_r, coolwarm, \n",
    "coolwarm_r, copper, copper_r, cubehelix, cubehelix_r, flag, flag_r, gist_earth, gist_earth_r, \n",
    "gist_gray, gist_gray_r, gist_heat, gist_heat_r, gist_ncar, gist_ncar_r, gist_rainbow, \n",
    "gist_rainbow_r, gist_stern, gist_stern_r, gist_yarg, gist_yarg_r, gnuplot, gnuplot2, \n",
    "gnuplot2_r, gnuplot_r, gray, gray_r, hot, hot_r, hsv, hsv_r, inferno, inferno_r, jet, jet_r, \n",
    "magma, magma_r, nipy_spectral, nipy_spectral_r, ocean, ocean_r, pink, pink_r, plasma, \n",
    "plasma_r, prism, prism_r, rainbow, rainbow_r, seismic, seismic_r, spectral, spectral_r, \n",
    "spring, spring_r, summer, summer_r, terrain, terrain_r, viridis, viridis_r, winter, \n",
    "winter_r"
   ]
  },
  {
   "cell_type": "code",
   "execution_count": null,
   "metadata": {
    "collapsed": false,
    "scrolled": true
   },
   "outputs": [],
   "source": [
    "# Imports\n",
    "import urllib2\n",
    "from urllib2 import Request, urlopen\n",
    "from metpy.io.gini import GiniFile\n",
    "from siphon.catalog import TDSCatalog\n",
    "from netCDF4 import num2date\n",
    "cat = TDSCatalog('http://thredds.ucar.edu/thredds/catalog/satellite/VIS/EAST-CONUS_1km/current/catalog.xml')\n",
    "dataset_name = sorted(cat.datasets.keys())[-1]\n",
    "dataset = cat.datasets[dataset_name]\n",
    "remote_gini_file = urlopen(dataset.access_urls['HTTPServer'])\n",
    "gini = GiniFile(remote_gini_file)\n",
    "gini_ds = gini.to_dataset()\n",
    "data_var = gini_ds.variables['Visible']\n",
    "x = gini_ds.variables['x'][:]\n",
    "y = gini_ds.variables['y'][:]\n",
    "proj_var = gini_ds.variables[data_var.grid_mapping]\n",
    "import cartopy.crs as ccrs\n",
    "globe = ccrs.Globe(ellipse='sphere', semimajor_axis=proj_var.earth_radius,\n",
    "                   semiminor_axis=proj_var.earth_radius)\n",
    "proj = ccrs.LambertConformal(central_longitude=proj_var.longitude_of_central_meridian,\n",
    "                             central_latitude=proj_var.latitude_of_projection_origin,\n",
    "                             standard_parallels=[proj_var.standard_parallel],\n",
    "                             globe=globe)\n",
    "time_var = gini_ds.variables['time']\n",
    "timestamp = num2date(time_var[:].squeeze(), time_var.units)\n",
    "print timestamp\n",
    "import datetime\n",
    "dateZ = datetime.datetime.utcnow()\n",
    "date=datetime.datetime.now()\n",
    "print 'Now:%s' %dateZ"
   ]
  },
  {
   "cell_type": "code",
   "execution_count": null,
   "metadata": {
    "collapsed": true
   },
   "outputs": [],
   "source": [
    "import urllib2\n",
    "from urllib2 import Request, urlopen\n",
    "from metpy.io.gini import GiniFile\n",
    "from siphon.catalog import TDSCatalog\n",
    "from netCDF4 import num2date\n",
    "cat = TDSCatalog('http://thredds.ucar.edu/thredds/catalog/satellite/VIS/EAST-CONUS_1km/current/catalog.xml')"
   ]
  },
  {
   "cell_type": "code",
   "execution_count": null,
   "metadata": {
    "collapsed": false
   },
   "outputs": [],
   "source": [
    "dataset_name = sorted(cat.datasets.keys())[-30]"
   ]
  },
  {
   "cell_type": "code",
   "execution_count": null,
   "metadata": {
    "collapsed": false
   },
   "outputs": [],
   "source": [
    "dataset_name"
   ]
  },
  {
   "cell_type": "code",
   "execution_count": null,
   "metadata": {
    "collapsed": false
   },
   "outputs": [],
   "source": [
    "dataset = cat.datasets[dataset_name]\n",
    "remote_gini_file = urlopen(dataset.access_urls['HTTPServer'])\n",
    "gini = GiniFile(remote_gini_file)\n",
    "gini_ds = gini.to_dataset()"
   ]
  },
  {
   "cell_type": "code",
   "execution_count": null,
   "metadata": {
    "collapsed": false
   },
   "outputs": [],
   "source": [
    "data_var = gini_ds.variables['Visible']\n",
    "x = gini_ds.variables['x'][:]\n",
    "y = gini_ds.variables['y'][:]\n",
    "proj_var = gini_ds.variables[data_var.grid_mapping]\n",
    "import cartopy.crs as ccrs\n",
    "globe = ccrs.Globe(ellipse='sphere', semimajor_axis=proj_var.earth_radius,\n",
    "                   semiminor_axis=proj_var.earth_radius)\n",
    "proj = ccrs.LambertConformal(central_longitude=proj_var.longitude_of_central_meridian,\n",
    "                             central_latitude=proj_var.latitude_of_projection_origin,\n",
    "                             standard_parallels=[proj_var.standard_parallel],\n",
    "                             globe=globe)\n",
    "time_var = gini_ds.variables['time']\n",
    "timestamp = num2date(time_var[:].squeeze(), time_var.units)\n",
    "print timestamp\n",
    "import datetime\n",
    "dateZ = datetime.datetime.utcnow()\n",
    "date=datetime.datetime.now()\n",
    "print 'Now:%s' %dateZ"
   ]
  },
  {
   "cell_type": "code",
   "execution_count": null,
   "metadata": {
    "collapsed": false,
    "scrolled": true
   },
   "outputs": [],
   "source": [
    "print(data_var)"
   ]
  },
  {
   "cell_type": "markdown",
   "metadata": {},
   "source": [
    "# !!!!!! 10 min to plot !!!!!!!!⬇⬇⬇⬇⬇⬇⬇⬇⬇"
   ]
  },
  {
   "cell_type": "code",
   "execution_count": null,
   "metadata": {
    "collapsed": false,
    "scrolled": false
   },
   "outputs": [],
   "source": [
    "# Make sure the notebook puts figures inline\n",
    "%matplotlib inline\n",
    "import matplotlib.pyplot as plt\n",
    "import cartopy.feature as cfeat\n",
    "from metpy.plots.ctables import registry\n",
    "from matplotlib import patheffects\n",
    "from netCDF4 import num2date\n",
    "time_var = gini_ds.variables['time']\n",
    "timestamp = num2date(time_var[:].squeeze(), time_var.units)\n",
    "print timestamp\n",
    "\n",
    "state_boundaries = cfeat.NaturalEarthFeature(category='cultural',\n",
    "                                             name='admin_1_states_provinces_lines',\n",
    "                                             scale='50m', facecolor='none')\n",
    "#fig = plt.figure(figsize=(20,20))\n",
    "fig=plt.figure()\n",
    "\n",
    "\n",
    "#wv_norm, wv_cmap = registry.get_with_steps('WVCIMSS', 0, 1)\n",
    "ax = fig.add_subplot(1, 1, 1, projection=proj)\n",
    "ax.set_extent([-92,-87,43,37], ccrs.Geodetic()) #[lon_0, lon_1, lat_0, lat_1])\n",
    "\n",
    "im = ax.imshow(data_var[:],extent=(x[0], x[-1], y[0], y[-1]), origin='upper')\n",
    "#               cmap=wv_cmap, norm=wv_norm,norm=plt.Normalize(140, 255))\n",
    "#im = ax.imshow(data_var[:],extent=(x[0], x[-1], y[0], y[-1]), origin='upper',\n",
    "#               cmap='gist_stern',norm=plt.Normalize(190, 255))\n",
    "#Upper level low 'detection':\n",
    "#im = ax.imshow(data_var[:],extent=(x[0], x[-1], y[0], y[-1]), origin='upper',\n",
    "#               cmap='nipy_spectral',norm=plt.Normalize(140, 150))\n",
    "\n",
    "#ax.coastlines(resolution='50m',color='white')\n",
    "ax.add_feature(state_boundaries, color='white')\n",
    "#ax.add_feature(cfeat.BORDERS, linewidth='2', color='white')\n",
    "'''\n",
    "text = ax.text(0.99, 0.01, timestamp.strftime('%d %B %Y %H:%M:%S Z'),\n",
    "               horizontalalignment='right', transform=ax.transAxes,\n",
    "               color='white', fontsize='xx-large', weight='bold')\n",
    "\n",
    "text.set_path_effects([patheffects.Stroke(linewidth=2, foreground='black'),\n",
    "                       patheffects.Normal()])\n",
    "'''\n",
    "#fig.savefig('20x20.png', bbox_inches='tight',dpi=200)"
   ]
  },
  {
   "cell_type": "code",
   "execution_count": null,
   "metadata": {
    "collapsed": true
   },
   "outputs": [],
   "source": []
  }
 ],
 "metadata": {
  "kernelspec": {
   "display_name": "Python 2",
   "language": "python",
   "name": "python2"
  },
  "language_info": {
   "codemirror_mode": {
    "name": "ipython",
    "version": 2
   },
   "file_extension": ".py",
   "mimetype": "text/x-python",
   "name": "python",
   "nbconvert_exporter": "python",
   "pygments_lexer": "ipython2",
   "version": "2.7.11"
  }
 },
 "nbformat": 4,
 "nbformat_minor": 0
}
