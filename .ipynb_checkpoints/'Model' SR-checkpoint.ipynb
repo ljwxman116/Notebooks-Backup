{
 "cells": [
  {
   "cell_type": "code",
   "execution_count": null,
   "metadata": {
    "collapsed": false
   },
   "outputs": [
    {
     "name": "stdout",
     "output_type": "stream",
     "text": [
      "QPF(in)=1.14\n",
      "8.65248942722\n",
      "7.70093241542\n",
      "9.2289895421\n",
      "QPF(in)=.62\n",
      "9.96206618975\n",
      "8.86648855113\n",
      "19.0327522929\n",
      "QPF(in)=.81\n",
      "9.36451795151\n",
      "8.33465564496\n",
      "13.8527591277\n",
      "QPF(in)=.88\n",
      "9.18661613282\n",
      "8.17631856824\n",
      "12.553264269\n",
      "QPF(in)=1.18\n",
      "8.58371645904\n",
      "7.63972275034\n",
      "8.85840030191\n",
      "QPF(in)=.37\n",
      "11.2260502257\n",
      "9.9914660177\n",
      "35.1502930663\n",
      "QPF(in)=.91\n",
      "9.1156298465\n",
      "8.11313899455\n",
      "12.0629933541\n",
      "QPF(in)=1.12\n",
      "8.68799994389\n",
      "7.73253766513\n",
      "9.42516975725\n",
      "QPF(in)=1.14\n",
      "8.65248942722\n",
      "7.70093241542\n",
      "9.2289895421\n",
      "QPF(in)=.68\n",
      "9.75138486709\n",
      "8.67897689444\n",
      "17.0540011264\n",
      "QPF(in)=1.01\n",
      "8.89833791304\n",
      "7.91974372859\n",
      "10.6572304894\n"
     ]
    }
   ],
   "source": [
    "while True:\n",
    "    x=input('QPF(in)=') \n",
    "    y=8.91885*x**-.2314\n",
    "    yy=7.938*x**-.2314\n",
    "    a=10.784*x**-1.1884\n",
    "    print y\n",
    "    print yy\n",
    "    print a"
   ]
  }
 ],
 "metadata": {
  "kernelspec": {
   "display_name": "Python 2",
   "language": "python",
   "name": "python2"
  },
  "language_info": {
   "codemirror_mode": {
    "name": "ipython",
    "version": 2
   },
   "file_extension": ".py",
   "mimetype": "text/x-python",
   "name": "python",
   "nbconvert_exporter": "python",
   "pygments_lexer": "ipython2",
   "version": "2.7.10"
  }
 },
 "nbformat": 4,
 "nbformat_minor": 0
}
