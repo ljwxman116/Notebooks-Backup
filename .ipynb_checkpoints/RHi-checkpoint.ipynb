{
 "cells": [
  {
   "cell_type": "code",
   "execution_count": null,
   "metadata": {
    "collapsed": false
   },
   "outputs": [],
   "source": [
    "A=9.5\n",
    "AA=7.5\n",
    "B=265.5\n",
    "BB=237.3\n",
    "T=input('TempC=')\n",
    "TD=input('DewC=')\n",
    "e=6.1078*10**((TD*AA)/(TD+BB))\n",
    "es=6.1078*10**((T*A)/(T+B))\n",
    "RHi=(e/es)*100\n",
    "S=RHi-100\n",
    "print e-es\n",
    "print'RHi: %r%s' % (RHi,'%')\n",
    "print'Supersaturation: %r%s' % (S,'%')"
   ]
  }
 ],
 "metadata": {
  "kernelspec": {
   "display_name": "Python 2",
   "language": "python",
   "name": "python2"
  },
  "language_info": {
   "codemirror_mode": {
    "name": "ipython",
    "version": 2
   },
   "file_extension": ".py",
   "mimetype": "text/x-python",
   "name": "python",
   "nbconvert_exporter": "python",
   "pygments_lexer": "ipython2",
   "version": "2.7.10"
  }
 },
 "nbformat": 4,
 "nbformat_minor": 0
}
